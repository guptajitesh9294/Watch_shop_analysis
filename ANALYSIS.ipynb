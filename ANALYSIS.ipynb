{
 "cells": [
  {
   "cell_type": "code",
   "execution_count": 250,
   "metadata": {},
   "outputs": [],
   "source": [
    "import pandas as pd\n",
    "import numpy as np\n",
    "import seaborn as sns\n",
    "import matplotlib.pyplot as plt\n",
    "%matplotlib inline"
   ]
  },
  {
   "cell_type": "code",
   "execution_count": 251,
   "metadata": {},
   "outputs": [
    {
     "data": {
      "text/plain": [
       "Index(['TRANS POSTED DATE', 'TRANS ACTUAL DATE', 'TRANS POSTED YEAR',\n",
       "       'TRANS POSTED MONTH', 'TRANS POSTED DAY', 'TRANS POSTED WK',\n",
       "       'TRANS ACTUAL YEAR', 'TRANS ACTUAL MONTH', 'TRANS ACTUAL DAY',\n",
       "       'TRANS ACTUAL WK', 'TRANS TYPE', 'TRANS DOC NUMBER', 'LOCATION CODE',\n",
       "       'BRAND', 'SKU', 'INVOICED UNITS', 'CREDIT MEMO UNITS',\n",
       "       'NET SALES UNITS', 'UNIT PRICE', 'INVOICED AMOUNT ',\n",
       "       'SALES ACTIVITY CODE'],\n",
       "      dtype='object')"
      ]
     },
     "execution_count": 251,
     "metadata": {},
     "output_type": "execute_result"
    }
   ],
   "source": [
    "sales = pd.read_csv(\"C:\\\\Users\\\\HP\\\\Desktop\\\\New folder\\\\Sales.csv\")\n",
    "sales.columns"
   ]
  },
  {
   "cell_type": "code",
   "execution_count": 252,
   "metadata": {},
   "outputs": [
    {
     "data": {
      "text/plain": [
       "Index(['SKU', 'CATEGORY', 'COLLECTION', 'LINE_UP', 'ENTRY_DATE', 'CATEGORY.1',\n",
       "       'GENDER', 'CASE MATERIAL', 'CASE COLOR', 'CASE SHAPE', 'CASE SIZE',\n",
       "       'DIAL TYPE', 'DIAL COLOR', 'SKU TYPE', 'STRAP TYPE', 'STRAP COLOR',\n",
       "       'ORIGINAL PRICE', 'PRICE RANGE', 'ITEM DISC', 'TECHNOLOGY', 'BRAND'],\n",
       "      dtype='object')"
      ]
     },
     "execution_count": 252,
     "metadata": {},
     "output_type": "execute_result"
    }
   ],
   "source": [
    "item = pd.read_csv(\"C:\\\\Users\\\\HP\\\\Desktop\\\\New folder\\\\item.csv\")\n",
    "item.columns"
   ]
  },
  {
   "cell_type": "code",
   "execution_count": 253,
   "metadata": {},
   "outputs": [
    {
     "data": {
      "text/plain": [
       "(14386, 41)"
      ]
     },
     "execution_count": 253,
     "metadata": {},
     "output_type": "execute_result"
    }
   ],
   "source": [
    "data = pd.merge(sales,item,on='SKU')\n",
    "data.shape"
   ]
  },
  {
   "cell_type": "code",
   "execution_count": 254,
   "metadata": {},
   "outputs": [
    {
     "data": {
      "text/plain": [
       "Index(['TRANS POSTED DATE', 'TRANS ACTUAL DATE', 'TRANS POSTED YEAR',\n",
       "       'TRANS POSTED MONTH', 'TRANS POSTED DAY', 'TRANS POSTED WK',\n",
       "       'TRANS ACTUAL YEAR', 'TRANS ACTUAL MONTH', 'TRANS ACTUAL DAY',\n",
       "       'TRANS ACTUAL WK', 'TRANS TYPE', 'TRANS DOC NUMBER', 'LOCATION CODE',\n",
       "       'BRAND_x', 'SKU', 'INVOICED UNITS', 'CREDIT MEMO UNITS',\n",
       "       'NET SALES UNITS', 'UNIT PRICE', 'INVOICED AMOUNT ',\n",
       "       'SALES ACTIVITY CODE', 'CATEGORY', 'COLLECTION', 'LINE_UP',\n",
       "       'ENTRY_DATE', 'CATEGORY.1', 'GENDER', 'CASE MATERIAL', 'CASE COLOR',\n",
       "       'CASE SHAPE', 'CASE SIZE', 'DIAL TYPE', 'DIAL COLOR', 'SKU TYPE',\n",
       "       'STRAP TYPE', 'STRAP COLOR', 'ORIGINAL PRICE', 'PRICE RANGE',\n",
       "       'ITEM DISC', 'TECHNOLOGY', 'BRAND_y'],\n",
       "      dtype='object')"
      ]
     },
     "execution_count": 254,
     "metadata": {},
     "output_type": "execute_result"
    }
   ],
   "source": [
    "data.columns"
   ]
  },
  {
   "cell_type": "markdown",
   "metadata": {},
   "source": [
    "# EXPLORATORY DATA ANALYSIS"
   ]
  },
  {
   "cell_type": "code",
   "execution_count": 255,
   "metadata": {},
   "outputs": [
    {
     "data": {
      "text/plain": [
       "BASICS           5681\n",
       "STYLE            3254\n",
       "SPORTS           1336\n",
       "MARATHON         1098\n",
       "OUTDOOR           859\n",
       "ENTRYPRICE        503\n",
       "LADIES DRESS      429\n",
       "PAIRS             279\n",
       "URBAN STYLE       228\n",
       "SMART STYLE       222\n",
       "GENTS STREET      194\n",
       "GENTS DRESS       156\n",
       "REBEL STYLE        55\n",
       "LADIES STREET      47\n",
       "YOUTH              38\n",
       "GWP2017             7\n",
       "Name: CATEGORY, dtype: int64"
      ]
     },
     "execution_count": 255,
     "metadata": {},
     "output_type": "execute_result"
    }
   ],
   "source": [
    "data['CATEGORY'].value_counts() # Mostly belongs to BASICS,STYLE,SPORTS,MARATHON,OUTDOOR"
   ]
  },
  {
   "cell_type": "code",
   "execution_count": 256,
   "metadata": {},
   "outputs": [],
   "source": [
    "data['NET SALES UNITS']=data['INVOICED UNITS']-data['CREDIT MEMO UNITS'] # so there is a problem in invoiced units so i have recalculate it. \n",
    "data['NET SALES UNITS']=data['NET SALES UNITS'].replace({-1:1,-2:2}) # This is wrong step but to convert my net sales unit i have used this.\n",
    "data['SALES_AMOUNT']=data['NET SALES UNITS']*data['UNIT PRICE']"
   ]
  },
  {
   "cell_type": "code",
   "execution_count": 257,
   "metadata": {},
   "outputs": [
    {
     "data": {
      "text/plain": [
       "<matplotlib.axes._subplots.AxesSubplot at 0x2663d8579b0>"
      ]
     },
     "execution_count": 257,
     "metadata": {},
     "output_type": "execute_result"
    },
    {
     "data": {
      "image/png": "[encoded data removed]",
      "text/plain": [
       "<Figure size 432x288 with 1 Axes>"
      ]
     },
     "metadata": {
      "needs_background": "light"
     },
     "output_type": "display_data"
    }
   ],
   "source": [
    "# CATEGORY\n",
    "cat1 = data.pivot_table(index='CATEGORY', values='SALES_AMOUNT', aggfunc=sum)\n",
    "cat1.sort_values('SALES_AMOUNT',ascending = False,inplace=True)\n",
    "cat1.plot(kind=\"bar\",color=\"green\", ) "
   ]
  },
  {
   "cell_type": "markdown",
   "metadata": {},
   "source": [
    "# (1) Factor affecting Sales"
   ]
  },
  {
   "cell_type": "code",
   "execution_count": 258,
   "metadata": {},
   "outputs": [],
   "source": [
    "# 1. Brand "
   ]
  },
  {
   "cell_type": "code",
   "execution_count": 259,
   "metadata": {},
   "outputs": [
    {
     "data": {
      "text/plain": [
       "BRAND_x\n",
       "Brand A     4552428\n",
       "Brand B     3271030\n",
       "Brand C    39632824\n",
       "Name: SALES_AMOUNT, dtype: int64"
      ]
     },
     "execution_count": 259,
     "metadata": {},
     "output_type": "execute_result"
    }
   ],
   "source": [
    "# Sales of Brand C is high so we can say that Brand A , Brand B --are less comptiable with technology.\n",
    "brand=data['SALES_AMOUNT'].groupby(data['BRAND_x']).sum()\n",
    "brand"
   ]
  },
  {
   "cell_type": "code",
   "execution_count": 260,
   "metadata": {},
   "outputs": [
    {
     "data": {
      "image/png": "[encoded data removed]",
      "text/plain": [
       "<Figure size 432x288 with 1 Axes>"
      ]
     },
     "metadata": {},
     "output_type": "display_data"
    }
   ],
   "source": [
    "labels=['Brand A','Brand B','Brand C']\n",
    "value=[4487768,3202530,39125642]\n",
    "plt.pie(value,labels=labels,autopct='%1.1f%%')\n",
    "plt.show() # Customer prefer BRAND C "
   ]
  },
  {
   "cell_type": "code",
   "execution_count": 261,
   "metadata": {},
   "outputs": [],
   "source": [
    "# 2. Location"
   ]
  },
  {
   "cell_type": "code",
   "execution_count": 262,
   "metadata": {},
   "outputs": [
    {
     "data": {
      "text/plain": [
       "<matplotlib.axes._subplots.AxesSubplot at 0x2663db3af28>"
      ]
     },
     "execution_count": 262,
     "metadata": {},
     "output_type": "execute_result"
    },
    {
     "data": {
      "image/png": "[encoded data removed]",
      "text/plain": [
       "<Figure size 432x288 with 1 Axes>"
      ]
     },
     "metadata": {
      "needs_background": "light"
     },
     "output_type": "display_data"
    }
   ],
   "source": [
    "pivot = data.pivot_table(index='LOCATION CODE', values='SALES_AMOUNT', aggfunc=sum)\n",
    "pivot.sort_values('SALES_AMOUNT',ascending = False,inplace=True)\n",
    "pivot.plot(kind=\"bar\",color=\"green\", ) # LOCATION 18,4,191,2,8,9 are highly preferable."
   ]
  },
  {
   "cell_type": "code",
   "execution_count": 263,
   "metadata": {},
   "outputs": [
    {
     "data": {
      "text/html": [
       "<div>\n",
       "<style scoped>\n",
       "    .dataframe tbody tr th:only-of-type {\n",
       "        vertical-align: middle;\n",
       "    }\n",
       "\n",
       "    .dataframe tbody tr th {\n",
       "        vertical-align: top;\n",
       "    }\n",
       "\n",
       "    .dataframe thead th {\n",
       "        text-align: right;\n",
       "    }\n",
       "</style>\n",
       "<table border=\"1\" class=\"dataframe\">\n",
       "  <thead>\n",
       "    <tr style=\"text-align: right;\">\n",
       "      <th></th>\n",
       "      <th>SALES_AMOUNT</th>\n",
       "    </tr>\n",
       "    <tr>\n",
       "      <th>LOCATION CODE</th>\n",
       "      <th></th>\n",
       "    </tr>\n",
       "  </thead>\n",
       "  <tbody>\n",
       "    <tr>\n",
       "      <th>Loc 18</th>\n",
       "      <td>9016335</td>\n",
       "    </tr>\n",
       "    <tr>\n",
       "      <th>Loc 4</th>\n",
       "      <td>6505055</td>\n",
       "    </tr>\n",
       "    <tr>\n",
       "      <th>Loc 19</th>\n",
       "      <td>5074265</td>\n",
       "    </tr>\n",
       "    <tr>\n",
       "      <th>Loc 1</th>\n",
       "      <td>4822265</td>\n",
       "    </tr>\n",
       "    <tr>\n",
       "      <th>Loc 2</th>\n",
       "      <td>4022420</td>\n",
       "    </tr>\n",
       "    <tr>\n",
       "      <th>Loc 8</th>\n",
       "      <td>3471945</td>\n",
       "    </tr>\n",
       "    <tr>\n",
       "      <th>Loc 9</th>\n",
       "      <td>3383090</td>\n",
       "    </tr>\n",
       "    <tr>\n",
       "      <th>Loc 21</th>\n",
       "      <td>3206715</td>\n",
       "    </tr>\n",
       "    <tr>\n",
       "      <th>Loc 20</th>\n",
       "      <td>2545123</td>\n",
       "    </tr>\n",
       "    <tr>\n",
       "      <th>Loc 6</th>\n",
       "      <td>2149140</td>\n",
       "    </tr>\n",
       "    <tr>\n",
       "      <th>Loc 10</th>\n",
       "      <td>1054640</td>\n",
       "    </tr>\n",
       "    <tr>\n",
       "      <th>Loc 22</th>\n",
       "      <td>960329</td>\n",
       "    </tr>\n",
       "    <tr>\n",
       "      <th>Loc 3</th>\n",
       "      <td>675140</td>\n",
       "    </tr>\n",
       "    <tr>\n",
       "      <th>Loc 11</th>\n",
       "      <td>569820</td>\n",
       "    </tr>\n",
       "  </tbody>\n",
       "</table>\n",
       "</div>"
      ],
      "text/plain": [
       "               SALES_AMOUNT\n",
       "LOCATION CODE              \n",
       "Loc 18              9016335\n",
       "Loc 4               6505055\n",
       "Loc 19              5074265\n",
       "Loc 1               4822265\n",
       "Loc 2               4022420\n",
       "Loc 8               3471945\n",
       "Loc 9               3383090\n",
       "Loc 21              3206715\n",
       "Loc 20              2545123\n",
       "Loc 6               2149140\n",
       "Loc 10              1054640\n",
       "Loc 22               960329\n",
       "Loc 3                675140\n",
       "Loc 11               569820"
      ]
     },
     "execution_count": 263,
     "metadata": {},
     "output_type": "execute_result"
    }
   ],
   "source": [
    "pivot"
   ]
  },
  {
   "cell_type": "code",
   "execution_count": 264,
   "metadata": {},
   "outputs": [
    {
     "data": {
      "text/plain": [
       "TRANS TYPE\n",
       "SI-ITEMS    47315397\n",
       "CM-ITEMS      140885\n",
       "Name: SALES_AMOUNT, dtype: int64"
      ]
     },
     "execution_count": 264,
     "metadata": {},
     "output_type": "execute_result"
    }
   ],
   "source": [
    "# 3. TRANSACTION TYPE\n",
    "b2=data['SALES_AMOUNT'].groupby(data['TRANS TYPE']).sum()\n",
    "b2.sort_values(ascending=False)"
   ]
  },
  {
   "cell_type": "code",
   "execution_count": 265,
   "metadata": {},
   "outputs": [
    {
     "data": {
      "text/plain": [
       "GENDER\n",
       "MALE      24541289\n",
       "FEMALE    19264172\n",
       "UNISEX     3633541\n",
       "FKIDS        17280\n",
       "Name: SALES_AMOUNT, dtype: int64"
      ]
     },
     "execution_count": 265,
     "metadata": {},
     "output_type": "execute_result"
    }
   ],
   "source": [
    "# 4. GENDER\n",
    "b3=data['SALES_AMOUNT'].groupby(data['GENDER']).sum()\n",
    "b3.sort_values(ascending=False)"
   ]
  },
  {
   "cell_type": "code",
   "execution_count": 266,
   "metadata": {},
   "outputs": [
    {
     "data": {
      "image/png": "[encoded data removed]",
      "text/plain": [
       "<Figure size 432x288 with 1 Axes>"
      ]
     },
     "metadata": {},
     "output_type": "display_data"
    }
   ],
   "source": [
    "labels=['MALE','FEMALE','UNISEX','FKIDS']\n",
    "value=[24541289,19264172,3633541,17280]\n",
    "plt.pie(value,labels=labels,autopct='%1.1f%%')\n",
    "plt.show()"
   ]
  },
  {
   "cell_type": "code",
   "execution_count": 267,
   "metadata": {},
   "outputs": [
    {
     "data": {
      "text/plain": [
       "COLLECTION\n",
       "BH2015      5566871\n",
       "FH2016      4441646\n",
       "FW2017      3961442\n",
       "SS2018      3877308\n",
       "SS2017      3250630\n",
       "FW2015      3090649\n",
       "FW2018      2704852\n",
       "SS2016      2410974\n",
       "FW2016      1895685\n",
       "BH2017      1730890\n",
       "BH2016      1474724\n",
       "PRE 2010    1464157\n",
       "SS2015      1405515\n",
       "FW2014      1110334\n",
       "SS2011       955643\n",
       "Name: SALES_AMOUNT, dtype: int64"
      ]
     },
     "execution_count": 267,
     "metadata": {},
     "output_type": "execute_result"
    }
   ],
   "source": [
    "# 5. COLLECTION\n",
    "b4=data['SALES_AMOUNT'].groupby(data['COLLECTION']).sum()\n",
    "b4.sort_values(ascending=False).head(15) #highly preferable collections "
   ]
  },
  {
   "cell_type": "code",
   "execution_count": 268,
   "metadata": {},
   "outputs": [
    {
     "data": {
      "text/plain": [
       "BH2015       2081\n",
       "FH2016       1265\n",
       "FW2015        974\n",
       "SS2018        871\n",
       "FW2017        849\n",
       "8LAP 2017     683\n",
       "BH2017        653\n",
       "SS2016        605\n",
       "SS2017        604\n",
       "FW2018        576\n",
       "Name: COLLECTION, dtype: int64"
      ]
     },
     "execution_count": 268,
     "metadata": {},
     "output_type": "execute_result"
    }
   ],
   "source": [
    "data['COLLECTION'].value_counts().head(10)"
   ]
  },
  {
   "cell_type": "code",
   "execution_count": 269,
   "metadata": {},
   "outputs": [
    {
     "data": {
      "text/plain": [
       "<matplotlib.axes._subplots.AxesSubplot at 0x2663dc1a2e8>"
      ]
     },
     "execution_count": 269,
     "metadata": {},
     "output_type": "execute_result"
    },
    {
     "data": {
      "image/png": "[encoded data removed]",
      "text/plain": [
       "<Figure size 432x288 with 1 Axes>"
      ]
     },
     "metadata": {
      "needs_background": "light"
     },
     "output_type": "display_data"
    }
   ],
   "source": [
    "# 6.MONTH SALE\n",
    "pivot1 = data.pivot_table(index='TRANS POSTED MONTH', values='SALES_AMOUNT', aggfunc=sum)\n",
    "pivot1.sort_values('SALES_AMOUNT',ascending = False,inplace=True)\n",
    "pivot1.plot(kind=\"bar\",color=\"green\", ) # max sales are in month 12, but in other month sales is constant."
   ]
  },
  {
   "cell_type": "code",
   "execution_count": 270,
   "metadata": {},
   "outputs": [
    {
     "data": {
      "text/plain": [
       "<matplotlib.axes._subplots.AxesSubplot at 0x266412626d8>"
      ]
     },
     "execution_count": 270,
     "metadata": {},
     "output_type": "execute_result"
    },
    {
     "data": {
      "image/png": "[encoded data removed]",
      "text/plain": [
       "<Figure size 432x288 with 1 Axes>"
      ]
     },
     "metadata": {
      "needs_background": "light"
     },
     "output_type": "display_data"
    }
   ],
   "source": [
    "# 7. DAY SALE\n",
    "pivot2 = data.pivot_table(index='TRANS POSTED DAY', values='SALES_AMOUNT', aggfunc=sum)\n",
    "pivot2.sort_values('SALES_AMOUNT',ascending = False,inplace=True)\n",
    "pivot2.plot(kind=\"bar\",color=\"green\", ) # max sales are in we are getting in 30,31 DAY of the month."
   ]
  },
  {
   "cell_type": "code",
   "execution_count": 271,
   "metadata": {
    "scrolled": false
   },
   "outputs": [
    {
     "data": {
      "image/png": "[encoded data removed]",
      "text/plain": [
       "<Figure size 432x288 with 1 Axes>"
      ]
     },
     "metadata": {},
     "output_type": "display_data"
    }
   ],
   "source": [
    "# 8. PRICE RANGE\n",
    "# SO THERE IS A PROBLEM IN PRICE RANGE DUE TO SPACING AND VALUES\n",
    "data['PRICE RANGE']=data['PRICE RANGE'].replace({'0-999':0 - 999,'-999':0 - 999,'-4999':4000 - 4999,'1000-1999':1000 - 1999,'2000-2999':2000 - 2999,'3000-3999':3000 - 3999,'4000-4999':4000 - 4999,'5000-5999':5000 - 5999,'6000-6999':6000 - 6999,'7000-7999':7000 - 7999,'8000-8999':8000 - 8999,'9000-9999':9000 - 9999,'10000-14999':10000 - 14999,'10000 - 10999':10000 - 14999})\n",
    "data['PRICE RANGE']=data['PRICE RANGE'].replace({'-999':0 - 999,'-4999':4000 - 4999})\n",
    "b6=data['SALES_AMOUNT'].groupby(data['PRICE RANGE']).sum()\n",
    "b6.sort_values(ascending=False).head()\n",
    "labels2=['3000 - 3999','2000 - 2999','4000 - 4999','1000 - 1999','5000 - 5999']\n",
    "value2=[11769881,11077236,6561774,5241575,4435857]\n",
    "plt.pie(value2,labels=labels2,autopct='%1.1f%%')\n",
    "plt.show()"
   ]
  },
  {
   "cell_type": "code",
   "execution_count": 272,
   "metadata": {},
   "outputs": [
    {
     "data": {
      "text/plain": [
       "2000 - 2999    4028\n",
       "3000 - 3999    3217\n",
       "1000 - 1999    2719\n",
       "4000 - 4999    1411\n",
       "0 - 999        1368\n",
       "Name: PRICE RANGE, dtype: int64"
      ]
     },
     "execution_count": 272,
     "metadata": {},
     "output_type": "execute_result"
    }
   ],
   "source": [
    "# 9. product sold in range\n",
    "data['PRICE RANGE'].value_counts().head()"
   ]
  },
  {
   "cell_type": "code",
   "execution_count": 273,
   "metadata": {},
   "outputs": [
    {
     "data": {
      "text/plain": [
       "<matplotlib.axes._subplots.AxesSubplot at 0x26640fc7eb8>"
      ]
     },
     "execution_count": 273,
     "metadata": {},
     "output_type": "execute_result"
    },
    {
     "data": {
      "image/png": "[encoded data removed]",
      "text/plain": [
       "<Figure size 432x288 with 1 Axes>"
      ]
     },
     "metadata": {
      "needs_background": "light"
     },
     "output_type": "display_data"
    }
   ],
   "source": [
    "# 10. Technology\n",
    "pivot2 = data.pivot_table(index='TECHNOLOGY', values='SALES_AMOUNT', aggfunc=sum)\n",
    "pivot2.sort_values('SALES_AMOUNT',ascending = False,inplace=True)\n",
    "pivot2.plot(kind=\"bar\",color=\"green\", ) # MAXIMUM SALES WE ARE GETTING IN 3H TECHNOLOGY "
   ]
  },
  {
   "cell_type": "code",
   "execution_count": 274,
   "metadata": {
    "scrolled": true
   },
   "outputs": [
    {
     "data": {
      "text/plain": [
       "3H               9290\n",
       "DIGITAL          2603\n",
       "3H DD             901\n",
       "CHRONO            517\n",
       "MULTIFUNCTION     437\n",
       "3H DATE           325\n",
       "2H                181\n",
       "DUAL               45\n",
       "COMBO              32\n",
       "2H DATE            25\n",
       "Name: TECHNOLOGY, dtype: int64"
      ]
     },
     "execution_count": 274,
     "metadata": {},
     "output_type": "execute_result"
    }
   ],
   "source": [
    "data['TECHNOLOGY'].value_counts().head(10)"
   ]
  },
  {
   "cell_type": "code",
   "execution_count": 275,
   "metadata": {},
   "outputs": [
    {
     "data": {
      "text/html": [
       "<div>\n",
       "<style scoped>\n",
       "    .dataframe tbody tr th:only-of-type {\n",
       "        vertical-align: middle;\n",
       "    }\n",
       "\n",
       "    .dataframe tbody tr th {\n",
       "        vertical-align: top;\n",
       "    }\n",
       "\n",
       "    .dataframe thead th {\n",
       "        text-align: right;\n",
       "    }\n",
       "</style>\n",
       "<table border=\"1\" class=\"dataframe\">\n",
       "  <thead>\n",
       "    <tr style=\"text-align: right;\">\n",
       "      <th></th>\n",
       "      <th>SALES_AMOUNT</th>\n",
       "    </tr>\n",
       "    <tr>\n",
       "      <th>SALES ACTIVITY CODE</th>\n",
       "      <th></th>\n",
       "    </tr>\n",
       "  </thead>\n",
       "  <tbody>\n",
       "    <tr>\n",
       "      <th>REGDISC</th>\n",
       "      <td>12708009</td>\n",
       "    </tr>\n",
       "    <tr>\n",
       "      <th>MYSTMX</th>\n",
       "      <td>10742835</td>\n",
       "    </tr>\n",
       "    <tr>\n",
       "      <th>REGULAR</th>\n",
       "      <td>7379038</td>\n",
       "    </tr>\n",
       "    <tr>\n",
       "      <th>MYSMD</th>\n",
       "      <td>6768058</td>\n",
       "    </tr>\n",
       "    <tr>\n",
       "      <th>MYSREG</th>\n",
       "      <td>3967007</td>\n",
       "    </tr>\n",
       "    <tr>\n",
       "      <th>PRIVADO</th>\n",
       "      <td>1504340</td>\n",
       "    </tr>\n",
       "    <tr>\n",
       "      <th>BOGO</th>\n",
       "      <td>1271785</td>\n",
       "    </tr>\n",
       "    <tr>\n",
       "      <th>SP10</th>\n",
       "      <td>1004290</td>\n",
       "    </tr>\n",
       "    <tr>\n",
       "      <th>MYSMB</th>\n",
       "      <td>454640</td>\n",
       "    </tr>\n",
       "    <tr>\n",
       "      <th>MP30</th>\n",
       "      <td>293600</td>\n",
       "    </tr>\n",
       "    <tr>\n",
       "      <th>SP10MP30</th>\n",
       "      <td>232280</td>\n",
       "    </tr>\n",
       "    <tr>\n",
       "      <th>10PCREG</th>\n",
       "      <td>213570</td>\n",
       "    </tr>\n",
       "    <tr>\n",
       "      <th>SMACEX</th>\n",
       "      <td>205300</td>\n",
       "    </tr>\n",
       "    <tr>\n",
       "      <th>ADD10</th>\n",
       "      <td>122730</td>\n",
       "    </tr>\n",
       "    <tr>\n",
       "      <th>DAFWNS</th>\n",
       "      <td>108640</td>\n",
       "    </tr>\n",
       "  </tbody>\n",
       "</table>\n",
       "</div>"
      ],
      "text/plain": [
       "                     SALES_AMOUNT\n",
       "SALES ACTIVITY CODE              \n",
       "REGDISC                  12708009\n",
       "MYSTMX                   10742835\n",
       "REGULAR                   7379038\n",
       "MYSMD                     6768058\n",
       "MYSREG                    3967007\n",
       "PRIVADO                   1504340\n",
       "BOGO                      1271785\n",
       "SP10                      1004290\n",
       "MYSMB                      454640\n",
       "MP30                       293600\n",
       "SP10MP30                   232280\n",
       "10PCREG                    213570\n",
       "SMACEX                     205300\n",
       "ADD10                      122730\n",
       "DAFWNS                     108640"
      ]
     },
     "execution_count": 275,
     "metadata": {},
     "output_type": "execute_result"
    }
   ],
   "source": [
    "# 11. SALES ACTIVITY CODE\n",
    "b7= data.pivot_table(index='SALES ACTIVITY CODE',values='SALES_AMOUNT',aggfunc=sum)\n",
    "b7.sort_values('SALES_AMOUNT',ascending = False,inplace= True)\n",
    "b7.head(15) # This shows that sales at different Activity"
   ]
  },
  {
   "cell_type": "markdown",
   "metadata": {},
   "source": [
    "# (2) Exploring BRANDS"
   ]
  },
  {
   "cell_type": "code",
   "execution_count": 276,
   "metadata": {},
   "outputs": [
    {
     "data": {
      "text/plain": [
       "<matplotlib.axes._subplots.AxesSubplot at 0x2664109cda0>"
      ]
     },
     "execution_count": 276,
     "metadata": {},
     "output_type": "execute_result"
    },
    {
     "data": {
      "image/png": "[encoded data removed]",
      "text/plain": [
       "<Figure size 432x288 with 1 Axes>"
      ]
     },
     "metadata": {
      "needs_background": "light"
     },
     "output_type": "display_data"
    }
   ],
   "source": [
    "d1=data.loc[data['BRAND_x']=='Brand A']\n",
    "d1['UNIT PRICE'].max()               \n",
    "# Min= 745\n",
    "# Max= 5290\n",
    "d1['SKU'].value_counts().head(10) # TOP 10 SELLING PRODUCT IN BRAND A\n",
    "data['SALES_AMOUNT'].groupby(data['SKU']).sum().sort_values(ascending=False).head(8) # TOP 8 PRODUCT SALES\n",
    "d1.boxplot()"
   ]
  },
  {
   "cell_type": "code",
   "execution_count": 277,
   "metadata": {},
   "outputs": [
    {
     "data": {
      "text/plain": [
       "PPL.15388JSBG/06M    13\n",
       "PPL.14378JSR/12P     13\n",
       "PPL.14536JSBN/02     12\n",
       "PPL.15303JSB/02M     12\n",
       "PPL.15464JYS/02M      9\n",
       "Name: SKU, dtype: int64"
      ]
     },
     "execution_count": 277,
     "metadata": {},
     "output_type": "execute_result"
    }
   ],
   "source": [
    "d2=data.loc[data['BRAND_x']=='Brand B']\n",
    "d2['UNIT PRICE'].max ()                  \n",
    "# Min=1465\n",
    "# Max= 12290\n",
    "d2['SKU'].value_counts().head() # TOP 10 SALES PRODUCT ID IN BRAND B"
   ]
  },
  {
   "cell_type": "code",
   "execution_count": 278,
   "metadata": {},
   "outputs": [
    {
     "data": {
      "text/plain": [
       "TW00B304E    379\n",
       "TW00B303E    378\n",
       "T2Z601       230\n",
       "TB320        229\n",
       "TA319        223\n",
       "TW00A304E    207\n",
       "T5K801       172\n",
       "TW00A301E    164\n",
       "TW00T104E    157\n",
       "TW00BW01E    153\n",
       "Name: SKU, dtype: int64"
      ]
     },
     "execution_count": 278,
     "metadata": {},
     "output_type": "execute_result"
    }
   ],
   "source": [
    "d3=data.loc[data['BRAND_x']=='Brand C']\n",
    "d3['UNIT PRICE'].max()        \n",
    "# Min= 590\n",
    "# Max= 14990\n",
    "#TOP 10 SALES IN BRAND C vs BRAND PRODUCT\n",
    "d3['SKU'].value_counts().head(10) "
   ]
  },
  {
   "cell_type": "markdown",
   "metadata": {},
   "source": [
    "# (a) BRAND C"
   ]
  },
  {
   "cell_type": "code",
   "execution_count": 318,
   "metadata": {},
   "outputs": [
    {
     "data": {
      "text/plain": [
       "FEMALE    2855\n",
       "MALE      1867\n",
       "UNISEX     230\n",
       "Name: GENDER, dtype: int64"
      ]
     },
     "execution_count": 318,
     "metadata": {},
     "output_type": "execute_result"
    }
   ],
   "source": [
    "# FEATURE CHECKING OF BRAND C\n",
    "f1=data.loc[data['BRAND_y']=='Brand C']\n",
    "f1.head()\n",
    "## CHECKING FEATURES OF BRAND C -> BASICS CATEGORY ##\n",
    "## !. CATEGORY\n",
    "f3=f1.loc[(f1['CATEGORY']=='BASICS')]\n",
    "f3.iloc[:,10:]\n",
    "f3['CASE MATERIAL'].value_counts() #All Basic material belons to brass\n",
    "f3['CASE COLOR'].value_counts()    #GLD = 3653, SLV= 1700, 2T GLD SLV =290\n",
    "f3['CASE SHAPE'].value_counts()     # maJORITY BELONGS TO ROUND=5379, RECTANGLE AND OVAL=158,103\n",
    "f3['DIAL TYPE'].value_counts()      # aLL WATCHES ARE ANALOG\n",
    "f3['DIAL COLOR'].value_counts()     # WHT=2139,CHMP=1167,SLV=1093,BRW=585\n",
    "f3['STRAP TYPE'].value_counts()     # mOSTLY SS=4297, LEATHER =1131 , BRASS= 249\n",
    "f3['STRAP COLOR'].value_counts()    # GLD=2373,SLV=1372, 2T GLD SLV=679\n",
    "f3['PRICE RANGE'].value_counts()    # 2000-2999=2675,3000-3999=1635,1000-1999=1247,4000-4999=80,5000-5999=32\n",
    "f3['ITEM DISC'].value_counts()      # 0.5=2869,0.3=1485,0.0=1304\n",
    "f3['TECHNOLOGY'].value_counts()     #3H=4952, 3H DD=687\n",
    "f4=f3.loc[f3['TECHNOLOGY']=='3H']\n",
    "f4['PRICE RANGE'].value_counts()   # 3H technology price range is > 1000, but mostly in 2000-2999\n",
    "f4['SALES_AMOUNT'].sum()\n",
    "f4['GENDER'].value_counts()"
   ]
  },
  {
   "cell_type": "code",
   "execution_count": 319,
   "metadata": {},
   "outputs": [
    {
     "data": {
      "text/plain": [
       "FEMALE    1486\n",
       "MALE       712\n",
       "UNISEX     214\n",
       "Name: GENDER, dtype: int64"
      ]
     },
     "execution_count": 319,
     "metadata": {},
     "output_type": "execute_result"
    }
   ],
   "source": [
    "## CHECKING FEATURES OF BRAND C -> STYLE CATEGORY\n",
    "## !. CATEGORY\n",
    "g1=f1.loc[(f1['CATEGORY']=='STYLE')]\n",
    "g1.iloc[:,10:]\n",
    "#g1['CASE MATERIAL'].value_counts() #moast style material belons to brass\n",
    "#g1['CASE COLOR'].value_counts()    #GLD = 1204, SLV= 1184, 2T GLD SLV =414\n",
    "#g1['CASE SHAPE'].value_counts()     # maJORITY BELONGS TO ROUND=2910, RECTANGLE=126 AND OVAL=150\n",
    "#g1['DIAL TYPE'].value_counts()      # mostly WATCHES ARE ANALOG\n",
    "#g1['DIAL COLOR'].value_counts()     # WHT=1369,SLV=535,Blk=497\n",
    "#g1['STRAP TYPE'].value_counts()     # mOSTLY SS=1548, LEATHER =1185 , BRASS= 206\n",
    "#g1['STRAP COLOR'].value_counts()    # BRW = 661,2T GLD SLV=  620, GLD= 618, SLV= 564, BLK= 488, RGD= 92\n",
    "#g1['PRICE RANGE'].value_counts()    # 4000 - 4999 =874,3000 - 3999= 825,5000 - 5999= 486,2000 - 2999=  380,1000 - 1999= 294\n",
    "#g1['ITEM DISC'].value_counts()      # 0.5=428,0.3=809,0.0=1970\n",
    "#g1['TECHNOLOGY'].value_counts()     #3H=2412, 3H DD=191,CHRONO=337\n",
    "g2=g1.loc[g1['TECHNOLOGY']=='3H']\n",
    "g2['PRICE RANGE'].value_counts()   # 3H technology price range is > 1000, but mostly in 3000-5999\n",
    "g2['SALES_AMOUNT'].sum()\n",
    "g2['GENDER'].value_counts()"
   ]
  },
  {
   "cell_type": "code",
   "execution_count": 317,
   "metadata": {
    "scrolled": true
   },
   "outputs": [
    {
     "data": {
      "text/plain": [
       "UNISEX    723\n",
       "MALE      372\n",
       "FEMALE    200\n",
       "Name: GENDER, dtype: int64"
      ]
     },
     "execution_count": 317,
     "metadata": {},
     "output_type": "execute_result"
    }
   ],
   "source": [
    "## CHECKING FEATURES OF BRAND C -> SPORTS CATEGORY\n",
    "## !. CATEGORY\n",
    "h1=f1.loc[(f1['CATEGORY']=='SPORTS')]\n",
    "h1.iloc[:,10:]\n",
    "#h1['CASE MATERIAL'].value_counts() # RESIN MATERIAL\n",
    "#h1['CASE COLOR'].value_counts()    #BLK=357,SLV=176,GRN=137,WHT=134,BLU=111\n",
    "#h1['CASE SHAPE'].value_counts()     # maJORITY BELONGS TO ROUND=1233, RECTANGLE=38 AND OVAL=27\n",
    "#h1['DIAL TYPE'].value_counts()      # mostly WATCHES ARE DIGITAL=1295\n",
    "#h1['DIAL COLOR'].value_counts()     # NORMAL=1212,INVERTED=101,BLK= 10,WHT=7,BLU=6\n",
    "#h1['STRAP TYPE'].value_counts()     # mOSTLY RESIN=1269, RUBBER =47 , FABRIC= 20\n",
    "#h1['STRAP COLOR'].value_counts()    # BLK    460,WHT    251,GRN    146,BLU    118,PPL     80,YLW     70\n",
    "#h1['PRICE RANGE'].value_counts()    # 1000 - 1999 = 650,0 - 999 = 223,2000 - 2999 = 182,3000 - 3999= 129,4000 - 4999=102,7000 - 7999= 38,5000 - 5999= 12\n",
    "#h1['ITEM DISC'].value_counts()      # 0.7=689,0.5=264,0.0=258,0.3=125\n",
    "#h1['TECHNOLOGY'].value_counts()     #DIGITAL=1295, 3H=22,COMBO=19\n",
    "h2=h1.loc[h1['TECHNOLOGY']=='DIGITAL']\n",
    "h2['PRICE RANGE'].value_counts()   # DIGITAL technology price range is > 1000, but mostly in 3000-5999\n",
    "h2['SALES_AMOUNT'].sum()\n",
    "h2['GENDER'].value_counts()"
   ]
  },
  {
   "cell_type": "code",
   "execution_count": 282,
   "metadata": {},
   "outputs": [
    {
     "data": {
      "text/plain": [
       "GENDER\n",
       "FEMALE    16855967\n",
       "FKIDS        17280\n",
       "MALE      19127831\n",
       "UNISEX     3631746\n",
       "Name: SALES_AMOUNT, dtype: int64"
      ]
     },
     "execution_count": 282,
     "metadata": {},
     "output_type": "execute_result"
    }
   ],
   "source": [
    "a3=data['SALES_AMOUNT'].groupby(f1['GENDER']).sum() # BRAND C\n",
    "a3"
   ]
  },
  {
   "cell_type": "code",
   "execution_count": 283,
   "metadata": {},
   "outputs": [
    {
     "data": {
      "text/plain": [
       "TECHNOLOGY\n",
       "3H               29335922\n",
       "DIGITAL           5241808\n",
       "CHRONO            3669458\n",
       "3H DD             3457443\n",
       "MULTIFUNCTION     2930796\n",
       "3H DATE           1220344\n",
       "2H                 972950\n",
       "DUAL               240254\n",
       "COMBO              131992\n",
       "2H DATE             82015\n",
       "SUBSECOND           71550\n",
       "IQ                  60610\n",
       "AUTOMATIC           33180\n",
       "Name: SALES_AMOUNT, dtype: int64"
      ]
     },
     "execution_count": 283,
     "metadata": {},
     "output_type": "execute_result"
    }
   ],
   "source": [
    "a4=data['SALES_AMOUNT'].groupby(data['TECHNOLOGY']).sum() # BRAND C\n",
    "a4.sort_values(ascending=False)"
   ]
  },
  {
   "cell_type": "markdown",
   "metadata": {},
   "source": [
    "# BRAND B"
   ]
  },
  {
   "cell_type": "code",
   "execution_count": 284,
   "metadata": {},
   "outputs": [
    {
     "data": {
      "text/plain": [
       "URBAN STYLE    228\n",
       "SMART STYLE    222\n",
       "REBEL STYLE     55\n",
       "Name: CATEGORY, dtype: int64"
      ]
     },
     "execution_count": 284,
     "metadata": {},
     "output_type": "execute_result"
    }
   ],
   "source": [
    "# FEATURE CHECKING OF BRAND C\n",
    "K1=data.loc[data['BRAND_y']=='Brand B']\n",
    "K1['CATEGORY'].value_counts()  # mOSTLY URBAN AND SMART STYLE"
   ]
  },
  {
   "cell_type": "code",
   "execution_count": 312,
   "metadata": {},
   "outputs": [
    {
     "data": {
      "text/plain": [
       "MALE    179\n",
       "Name: GENDER, dtype: int64"
      ]
     },
     "execution_count": 312,
     "metadata": {},
     "output_type": "execute_result"
    }
   ],
   "source": [
    "## CHECKING FEATURES OF BRAND B -> URBAN STYLE CATEGORY ##\n",
    "## !. CATEGORY\n",
    "K2=K1.loc[(K1['CATEGORY']=='URBAN STYLE')]\n",
    "K2.iloc[:,10:]\n",
    "#K2['CASE MATERIAL'].value_counts() #moast style material SS=172,ALLOY=53,\n",
    "#K2['CASE COLOR'].value_counts()    #SLV= 111,BLK =57,RGD=22\n",
    "#K2['CASE SHAPE'].value_counts()     # maJORITY BELONGS TO ROUND=216, RECTANGLE=126 AND OVAL=150\n",
    "#K2['DIAL TYPE'].value_counts()      # WATCHES ARE ONLY ANALOG=228\n",
    "#K2['DIAL COLOR'].value_counts()     # Blk=78,SLV=44,BLU=39,BRW=28,GRY=16\n",
    "#K2['STRAP TYPE'].value_counts()     # mOSTLY SS=78, LEATHER =75 , RUBBER= 39\n",
    "#K2['STRAP COLOR'].value_counts()    # BLK = 92,SLV=  75, BRW= 39, BLU= 11\n",
    "#K2['PRICE RANGE'].value_counts()    # 7000 - 7999=58,8000 - 8999=57,6000 - 6999=49,4000 - 4999=29\n",
    "#K2['ITEM DISC'].value_counts()      # 0.0=187,0.3=21,0.512\n",
    "#K2['TECHNOLOGY'].value_counts()     #MULTIFUNCTION =179, 3H DATE=33,CHRONO=15\n",
    "K3=K2.loc[K2['TECHNOLOGY']=='MULTIFUNCTION']\n",
    "K3['PRICE RANGE'].value_counts()   # MUTIFUNCTION technology IS IN ALL RANGE BUT MOSTLY THEY ARE BELONGING TO 6K-9K\n",
    "K3['SALES_AMOUNT'].sum()\n",
    "K3['GENDER'].value_counts()"
   ]
  },
  {
   "cell_type": "code",
   "execution_count": 310,
   "metadata": {},
   "outputs": [
    {
     "data": {
      "text/plain": [
       "MALE    89\n",
       "Name: GENDER, dtype: int64"
      ]
     },
     "execution_count": 310,
     "metadata": {},
     "output_type": "execute_result"
    }
   ],
   "source": [
    "## CHECKING FEATURES OF BRAND B -> SMART  STYLE CATEGORY ##\n",
    "## !. CATEGORY\n",
    "K4=K1.loc[(K1['CATEGORY']=='SMART STYLE')]\n",
    "K4.iloc[:,10:]\n",
    "#K4['CASE MATERIAL'].value_counts() #moast style material SS=158,ALLOY=64,\n",
    "#K4['CASE COLOR'].value_counts()    #SLV= 120,BLK =62,GUN=18,RGD=11\n",
    "#K4['CASE SHAPE'].value_counts()     # maJORITY BELONGS TO ROUND=222\n",
    "#K4['DIAL TYPE'].value_counts()      # WATCHES ARE ONLY ANALOG=222\n",
    "#K4['DIAL COLOR'].value_counts()     # Blk=94,SLV=53,BLU=34,BRW=20,GRY=15\n",
    "#K4['STRAP TYPE'].value_counts()     # mOSTLY SS=89, LEATHER =85 , ALLOY=48\n",
    "#K4['STRAP COLOR'].value_counts()    # BLK = 84,SLV=  61, BRW= 48, GRY= 13\n",
    "#K4['PRICE RANGE'].value_counts()    # 5000 - 5999 =91(MOSTLY),6000 - 6999=39,3000 - 3999=28,7000 - 7999=24,4000 - 4999=24\n",
    "#K4['ITEM DISC'].value_counts()      # 0.0=169,0.3=44,0.5=7\n",
    "#K4['TECHNOLOGY'].value_counts()     #3H DATE= 102,MULTIFUNCTION =89,3H=12\n",
    "K5=K4.loc[K4['TECHNOLOGY']=='MULTIFUNCTION']\n",
    "K5['PRICE RANGE'].value_counts()   # 3H DATE technology IS IN ALL RANGE BUT MOSTLY THEY ARE BELONGING TO 6K-7K\n",
    "#MULTIFUNCTION technology IS IN ALL RANGE BUT MOSTLY THEY ARE BELONGING TO 5K-7K\n",
    "K5['GENDER'].value_counts()"
   ]
  },
  {
   "cell_type": "code",
   "execution_count": 287,
   "metadata": {},
   "outputs": [
    {
     "data": {
      "text/plain": [
       "GENDER\n",
       "FEMALE       2065\n",
       "MALE      3267170\n",
       "UNISEX       1795\n",
       "Name: SALES_AMOUNT, dtype: int64"
      ]
     },
     "execution_count": 287,
     "metadata": {},
     "output_type": "execute_result"
    }
   ],
   "source": [
    "a2=data['SALES_AMOUNT'].groupby(K1['GENDER']).sum() # BRAND B\n",
    "a2"
   ]
  },
  {
   "cell_type": "markdown",
   "metadata": {},
   "source": [
    "# BRAND A"
   ]
  },
  {
   "cell_type": "code",
   "execution_count": 292,
   "metadata": {},
   "outputs": [
    {
     "data": {
      "text/plain": [
       "1185287"
      ]
     },
     "execution_count": 292,
     "metadata": {},
     "output_type": "execute_result"
    }
   ],
   "source": [
    "# FEATURE CHECKING OF BRAND A\n",
    "L1=data.loc[data['BRAND_y']=='Brand A']\n",
    "L1.drop(['INVOICED AMOUNT ', 'SALES ACTIVITY CODE'], axis=1)\n",
    "L1['CATEGORY'].value_counts()  # mOSTLY URBAN AND SMART STYLE\n",
    "## CHECKING FEATURES OF BRAND B -> ENTRYPRICE CATEGORY ##\n",
    "##CATEGORY\n",
    "L2=L1.loc[(L1['CATEGORY']=='ENTRYPRICE')]\n",
    "L2.iloc[:,10:]\n",
    "L2['CASE MATERIAL'].value_counts() #moast style material SS=429\n",
    "L2['CASE COLOR'].value_counts()    #SLV= 256,GLD=231\n",
    "#L2['CASE SHAPE'].value_counts()     # maJORITY BELONGS TO ROUND=503\n",
    "#L2['DIAL TYPE'].value_counts()      # WATCHES ARE ONLY ANALOG=503\n",
    "#L2['DIAL COLOR'].value_counts()     # GLD=183,SLV=167,BLK=92\n",
    "#L2['STRAP TYPE'].value_counts()     # mOSTLY SS=503\n",
    "#L2['STRAP COLOR'].value_counts()    # SLV = 262,GLD=  183\n",
    "#L2['PRICE RANGE'].value_counts()    # 2000 - 2999=333,1000 - 1999=166\n",
    "#L2['ITEM DISC'].value_counts()      # 0.0=422,0.3=77\n",
    "#L2['TECHNOLOGY'].value_counts()     #3H=497,3H DATE=6\n",
    "L3=L2.loc[L2['TECHNOLOGY']=='3H']\n",
    "L3['PRICE RANGE'].value_counts()   # 3H technology IS IN ALL RANGE BUT MOSTLY THEY ARE BELONGING TO 1K-3K\n",
    "L3['SALES_AMOUNT'].sum()"
   ]
  },
  {
   "cell_type": "code",
   "execution_count": 294,
   "metadata": {},
   "outputs": [
    {
     "data": {
      "text/plain": [
       "1153106"
      ]
     },
     "execution_count": 294,
     "metadata": {},
     "output_type": "execute_result"
    }
   ],
   "source": [
    "## CHECKING FEATURES OF BRAND A\n",
    "#  LADIES DRESS CATEGORY ##\n",
    "##CATEGORY\n",
    "M2=L1.loc[(L1['CATEGORY']=='LADIES DRESS')]\n",
    "M2.iloc[:,10:]\n",
    "#M2['CASE MATERIAL'].value_counts() #moast style material SS=429\n",
    "#M2['CASE COLOR'].value_counts()    #SLV= 137,GLD=222\n",
    "#M2['CASE SHAPE'].value_counts()     # maJORITY BELONGS TO ROUND=421\n",
    "#M2['DIAL TYPE'].value_counts()      # WATCHES ARE ONLY ANALOG=429\n",
    "#M2['DIAL COLOR'].value_counts()     # WHT=50,SLV=286\n",
    "#M2['STRAP TYPE'].value_counts()     # mOSTLY SS=409\n",
    "#M2['STRAP COLOR'].value_counts()    # SLV = 128,GLD=  172,RGD=54\n",
    "#M2['PRICE RANGE'].value_counts()    # 3000 - 3999    197,2000 - 2999    102,4000 - 4999     75\n",
    "#M2['ITEM DISC'].value_counts()      # 0.0=358,0.7=29\n",
    "#M2['TECHNOLOGY'].value_counts()     #3H=330,3H DATE=92\n",
    "M4=M2.loc[M2['TECHNOLOGY']=='3H']\n",
    "M4['PRICE RANGE'].value_counts()   # 3H technology IS IN ALL RANGE BUT MOSTLY THEY ARE BELONGING TO 3K-4K\n",
    "M4['SALES_AMOUNT'].sum()"
   ]
  },
  {
   "cell_type": "code",
   "execution_count": 302,
   "metadata": {},
   "outputs": [
    {
     "data": {
      "text/plain": [
       "GENDER\n",
       "FEMALE    382792\n",
       "MALE      802495\n",
       "Name: SALES_AMOUNT, dtype: int64"
      ]
     },
     "execution_count": 302,
     "metadata": {},
     "output_type": "execute_result"
    }
   ],
   "source": [
    "a1=L3['SALES_AMOUNT'].groupby(L3['GENDER']).sum() #BRAND A\n",
    "a1"
   ]
  },
  {
   "cell_type": "code",
   "execution_count": null,
   "metadata": {},
   "outputs": [],
   "source": [
    " ###### THANKS ######"
   ]
  }
 ],
 "metadata": {
  "kernelspec": {
   "display_name": "Python 3",
   "language": "python",
   "name": "python3"
  },
  "language_info": {
   "codemirror_mode": {
    "name": "ipython",
    "version": 3
   },
   "file_extension": ".py",
   "mimetype": "text/x-python",
   "name": "python",
   "nbconvert_exporter": "python",
   "pygments_lexer": "ipython3",
   "version": "3.7.0"
  }
 },
 "nbformat": 4,
 "nbformat_minor": 2
}
